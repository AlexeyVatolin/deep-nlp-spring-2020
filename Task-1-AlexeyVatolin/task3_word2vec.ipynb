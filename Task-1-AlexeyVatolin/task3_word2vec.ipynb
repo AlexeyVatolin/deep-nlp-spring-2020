{
 "cells": [
  {
   "cell_type": "markdown",
   "metadata": {},
   "source": [
    "# Assignment 1.3: Naive word2vec (40 points)\n",
    "\n",
    "This task can be formulated very simply. Follow this [paper](https://arxiv.org/pdf/1411.2738.pdf) \n",
    "and implement word2vec like a two-layer neural network with matrices $W$ and $W'$. \n",
    "One matrix projects words to low-dimensional 'hidden' space and the other - back to high-dimensional vocabulary space.\n",
    "\n",
    "![word2vec](https://i.stack.imgur.com/6eVXZ.jpg)\n",
    "\n",
    "You can use TensorFlow/PyTorch and code from your previous task.\n",
    "\n",
    "## Results of this task: (30 points)\n",
    " * trained word vectors (mention somewhere, how long it took to train)\n",
    " * plotted loss (so we can see that it has converged)\n",
    " * function to map token to corresponding word vector\n",
    " * beautiful visualizations (PCE, T-SNE), you can use TensorBoard and play with your vectors in 3D \n",
    " (don't forget to add screenshots to the task)\n",
    "\n",
    "## Extra questions: (10 points)\n",
    " * Intrinsic evaluation: you can find datasets [here](http://download.tensorflow.org/data/questions-words.txt)\n",
    " * Extrinsic evaluation: you can use [these](https://medium.com/@dataturks/rare-text-classification-open-datasets-9d340c8c508e)\n",
    "\n",
    "Also, you can find any other datasets for quantitative evaluation.\n",
    "\n",
    "Again. It is **highly recommended** to read this [paper](https://arxiv.org/pdf/1411.2738.pdf)\n",
    "\n",
    "Example of visualization in tensorboard:\n",
    "https://projector.tensorflow.org\n",
    "\n",
    "Example of 2D visualisation:\n",
    "\n",
    "![2dword2vec](https://www.tensorflow.org/images/tsne.png)"
   ]
  },
  {
   "cell_type": "markdown",
   "metadata": {},
   "source": [
    "**Код модели и класс для ее использования находится в файле w2v_model**"
   ]
  },
  {
   "cell_type": "markdown",
   "metadata": {},
   "source": [
    "## Обучение модели без негативного сэмплирования"
   ]
  },
  {
   "cell_type": "code",
   "execution_count": 7,
   "metadata": {},
   "outputs": [
    {
     "name": "stderr",
     "output_type": "stream",
     "text": [
      "[nltk_data] Downloading package reuters to /home/alexey/nltk_data...\n",
      "[nltk_data]   Package reuters is already up-to-date!\n",
      "[nltk_data] Downloading package punkt to /home/alexey/nltk_data...\n",
      "[nltk_data]   Package punkt is already up-to-date!\n"
     ]
    },
    {
     "data": {
      "text/plain": [
       "True"
      ]
     },
     "execution_count": 7,
     "metadata": {},
     "output_type": "execute_result"
    }
   ],
   "source": [
    "import nltk\n",
    "import joblib\n",
    "from pprint import pprint\n",
    "\n",
    "from batcher import Batcher\n",
    "from w2v_model import Word2Vec\n",
    "from nltk.corpus import reuters\n",
    "\n",
    "nltk.download('reuters')\n",
    "nltk.download('punkt')"
   ]
  },
  {
   "cell_type": "code",
   "execution_count": 8,
   "metadata": {},
   "outputs": [],
   "source": [
    "START_TOKEN = 'START'\n",
    "END_TOKEN = 'END'\n",
    "\n",
    "\n",
    "def read_corpus(category=\"crude\"):\n",
    "    \"\"\" Read files from the specified Reuter's category.\n",
    "            Params:\n",
    "                category (string): category name\n",
    "            Return:\n",
    "                list of lists, with words from each of the processed files\n",
    "        \"\"\"\n",
    "    files = reuters.fileids(category)\n",
    "    return [START_TOKEN + ' ' + reuters.raw(f).lower() + ' ' + END_TOKEN for f in files]\n",
    "\n",
    "def save_reuters():\n",
    "    data = read_corpus()\n",
    "    data = [re.sub(r'\\s+', ' ', text) for text in data]\n",
    "    with open('reuters.txt', 'w+') as f:\n",
    "        f.write('\\n'.join(data))\n",
    "        \n",
    "save_reuters()"
   ]
  },
  {
   "cell_type": "code",
   "execution_count": 1,
   "metadata": {},
   "outputs": [],
   "source": [
    "from batcher import Batcher\n",
    "from w2v_model import Word2Vec"
   ]
  },
  {
   "cell_type": "code",
   "execution_count": 9,
   "metadata": {},
   "outputs": [
    {
     "name": "stderr",
     "output_type": "stream",
     "text": [
      "Making a dictionary of words: 578it [00:01, 496.44it/s]\n"
     ]
    }
   ],
   "source": [
    "batcher = Batcher('reuters.txt', min_count=15)"
   ]
  },
  {
   "cell_type": "code",
   "execution_count": 17,
   "metadata": {},
   "outputs": [],
   "source": [
    "model = Word2Vec(batcher, 100, 'cbow', device='cpu')"
   ]
  },
  {
   "cell_type": "code",
   "execution_count": 18,
   "metadata": {},
   "outputs": [
    {
     "name": "stderr",
     "output_type": "stream",
     "text": [
      "loss: 6.6875: : 1008it [01:29, 11.31it/s]\n",
      "loss: 6.5612: : 1008it [01:47,  9.37it/s]\n"
     ]
    }
   ],
   "source": [
    "model.fit(epochs=2, batch_size=128, num_negative_samples=0, lr=0.1)"
   ]
  },
  {
   "cell_type": "markdown",
   "metadata": {},
   "source": [
    "График функции ошибки"
   ]
  },
  {
   "cell_type": "markdown",
   "metadata": {},
   "source": [
    "![](imgs/loss_w2v.png)"
   ]
  },
  {
   "cell_type": "markdown",
   "metadata": {},
   "source": [
    "TSNE двумерная проекция"
   ]
  },
  {
   "cell_type": "markdown",
   "metadata": {},
   "source": [
    "![](imgs/tsne_w2v.png)"
   ]
  },
  {
   "cell_type": "markdown",
   "metadata": {},
   "source": [
    "Визуализация ближайших соседей слова pay"
   ]
  },
  {
   "cell_type": "markdown",
   "metadata": {},
   "source": [
    "![](imgs/pay_tsne.png)"
   ]
  },
  {
   "cell_type": "markdown",
   "metadata": {},
   "source": [
    "![](imgs/pay_similar.png)"
   ]
  },
  {
   "cell_type": "markdown",
   "metadata": {},
   "source": [
    "Для получения векторов слов реализована функция ```__getitem__``` в классе ```Word2Vec```"
   ]
  },
  {
   "cell_type": "code",
   "execution_count": 5,
   "metadata": {},
   "outputs": [
    {
     "data": {
      "text/plain": [
       "array([[-0.19411553, -0.4543066 , -0.30762923, -0.15537794,  1.2287014 ,\n",
       "         0.02199285,  0.5052601 ,  1.1425176 , -1.4699855 ,  0.05500521,\n",
       "        -0.50839436,  1.5444202 , -0.84225476, -0.6410309 ,  0.6089825 ,\n",
       "         0.31013072,  0.5426019 , -0.6780794 ,  0.27120188,  0.30824423,\n",
       "        -0.8558358 , -0.05787476,  0.6689864 , -0.93997914, -0.71960145,\n",
       "         0.3158765 , -1.3750368 , -1.5036819 , -0.20110574,  0.50951546,\n",
       "        -2.3031626 ,  0.23426062, -0.20502484, -0.24831456,  0.07429146,\n",
       "        -0.13465947, -0.6839557 ,  0.45570114, -0.69297814, -0.6911782 ,\n",
       "        -0.312758  , -0.21947247,  0.08345015,  0.00360702,  0.45657602,\n",
       "        -1.0257844 , -0.02398044, -0.660159  , -0.259278  ,  0.07834294,\n",
       "         0.4120891 ,  0.04391201,  0.31088114,  0.28587025,  0.47354126,\n",
       "        -1.6509819 ,  0.31241482,  0.02018441,  0.27388293,  0.5192699 ,\n",
       "        -0.29151487,  0.1390649 ,  0.04169053,  2.23582   , -0.70483965,\n",
       "         0.42826295, -0.71624374,  1.136356  ,  0.4716789 ,  0.59345865,\n",
       "         0.29035297, -0.9624896 , -0.61475724, -0.59762263,  0.07365233,\n",
       "        -0.08470128, -0.2942115 ,  0.11352485, -0.01338045,  0.77037585,\n",
       "        -0.388424  ,  0.79568726, -0.21796612,  0.3638314 ,  1.044213  ,\n",
       "        -0.24468641, -0.47994447, -0.18639964, -0.528213  ,  0.8514714 ,\n",
       "        -0.30958942,  0.62463045, -0.08092448, -0.0572218 , -1.2120734 ,\n",
       "         0.3868533 ,  0.6971456 ,  0.7306259 ,  0.70383584,  0.355488  ]],\n",
       "      dtype=float32)"
      ]
     },
     "execution_count": 5,
     "metadata": {},
     "output_type": "execute_result"
    }
   ],
   "source": [
    "model['apple']"
   ]
  },
  {
   "cell_type": "code",
   "execution_count": 6,
   "metadata": {},
   "outputs": [
    {
     "ename": "ValueError",
     "evalue": "Word abcabc not in model vocabulary",
     "output_type": "error",
     "traceback": [
      "\u001b[0;31m---------------------------------------------------------------------------\u001b[0m",
      "\u001b[0;31mValueError\u001b[0m                                Traceback (most recent call last)",
      "\u001b[0;32m<ipython-input-6-9193b318882d>\u001b[0m in \u001b[0;36m<module>\u001b[0;34m\u001b[0m\n\u001b[0;32m----> 1\u001b[0;31m \u001b[0mmodel\u001b[0m\u001b[0;34m[\u001b[0m\u001b[0;34m'abcabc'\u001b[0m\u001b[0;34m]\u001b[0m\u001b[0;34m\u001b[0m\u001b[0;34m\u001b[0m\u001b[0m\n\u001b[0m",
      "\u001b[0;32m~/Documents/ML/deep-nlp-spring-2020/Task-1-AlexeyVatolin/w2v_model.py\u001b[0m in \u001b[0;36m__getitem__\u001b[0;34m(self, word)\u001b[0m\n\u001b[1;32m    104\u001b[0m             \u001b[0;32mreturn\u001b[0m \u001b[0mword_vector\u001b[0m\u001b[0;34m.\u001b[0m\u001b[0mdetach\u001b[0m\u001b[0;34m(\u001b[0m\u001b[0;34m)\u001b[0m\u001b[0;34m.\u001b[0m\u001b[0mcpu\u001b[0m\u001b[0;34m(\u001b[0m\u001b[0;34m)\u001b[0m\u001b[0;34m.\u001b[0m\u001b[0mnumpy\u001b[0m\u001b[0;34m(\u001b[0m\u001b[0;34m)\u001b[0m\u001b[0;34m\u001b[0m\u001b[0;34m\u001b[0m\u001b[0m\n\u001b[1;32m    105\u001b[0m         \u001b[0;32melse\u001b[0m\u001b[0;34m:\u001b[0m\u001b[0;34m\u001b[0m\u001b[0;34m\u001b[0m\u001b[0m\n\u001b[0;32m--> 106\u001b[0;31m             \u001b[0;32mraise\u001b[0m \u001b[0mValueError\u001b[0m\u001b[0;34m(\u001b[0m\u001b[0;34m'Word {} not in model vocabulary'\u001b[0m\u001b[0;34m.\u001b[0m\u001b[0mformat\u001b[0m\u001b[0;34m(\u001b[0m\u001b[0mword\u001b[0m\u001b[0;34m)\u001b[0m\u001b[0;34m)\u001b[0m\u001b[0;34m\u001b[0m\u001b[0;34m\u001b[0m\u001b[0m\n\u001b[0m\u001b[1;32m    107\u001b[0m \u001b[0;34m\u001b[0m\u001b[0m\n\u001b[1;32m    108\u001b[0m     \u001b[0;32mdef\u001b[0m \u001b[0mmost_similar\u001b[0m\u001b[0;34m(\u001b[0m\u001b[0mself\u001b[0m\u001b[0;34m,\u001b[0m \u001b[0mword\u001b[0m\u001b[0;34m:\u001b[0m \u001b[0mstr\u001b[0m\u001b[0;34m)\u001b[0m\u001b[0;34m:\u001b[0m\u001b[0;34m\u001b[0m\u001b[0;34m\u001b[0m\u001b[0m\n",
      "\u001b[0;31mValueError\u001b[0m: Word abcabc not in model vocabulary"
     ]
    }
   ],
   "source": [
    "model['abcabc']"
   ]
  },
  {
   "cell_type": "code",
   "execution_count": null,
   "metadata": {},
   "outputs": [],
   "source": []
  }
 ],
 "metadata": {
  "kernelspec": {
   "display_name": "Python 3",
   "language": "python",
   "name": "python3"
  },
  "language_info": {
   "codemirror_mode": {
    "name": "ipython",
    "version": 3
   },
   "file_extension": ".py",
   "mimetype": "text/x-python",
   "name": "python",
   "nbconvert_exporter": "python",
   "pygments_lexer": "ipython3",
   "version": "3.7.4"
  },
  "pycharm": {
   "stem_cell": {
    "cell_type": "raw",
    "metadata": {
     "collapsed": false
    },
    "source": []
   }
  }
 },
 "nbformat": 4,
 "nbformat_minor": 4
}
